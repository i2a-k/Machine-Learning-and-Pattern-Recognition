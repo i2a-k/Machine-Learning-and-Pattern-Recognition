{
  "nbformat": 4,
  "nbformat_minor": 0,
  "metadata": {
    "colab": {
      "name": "Classification.ipynb",
      "provenance": [],
      "collapsed_sections": []
    },
    "kernelspec": {
      "name": "python3",
      "display_name": "Python 3"
    }
  },
  "cells": [
    {
      "cell_type": "code",
      "metadata": {
        "id": "zPHa8_VMRD4L",
        "colab_type": "code",
        "colab": {}
      },
      "source": [
        "import numpy as np\n",
        "import pandas as pd\n",
        "import math\n",
        "from sklearn.preprocessing import normalize\n",
        "from sklearn.decomposition import PCA\n",
        "from sklearn.model_selection import KFold\n",
        "from statistics import mode\n",
        "from sklearn.metrics import confusion_matrix\n",
        "from sklearn.preprocessing import LabelEncoder\n",
        "import matplotlib.pyplot as plt"
      ],
      "execution_count": null,
      "outputs": []
    },
    {
      "cell_type": "code",
      "metadata": {
        "id": "AHN-S8i5Sz7F",
        "colab_type": "code",
        "colab": {}
      },
      "source": [
        "def kNearestNeighbor(trainData, testData, K=1):\n",
        "  classColumnNum = trainData.shape[1]\n",
        "  trainDataSize = len(trainData)\n",
        "  testDataSize = len(testData)\n",
        "  EuclideanDis = np.zeros((testDataSize, trainDataSize))\n",
        "  for i in range(testDataSize):\n",
        "    for j in range(trainDataSize):\n",
        "      EuclideanDis[i,j] = np.linalg.norm(testData[i,0:classColumnNum-1]-trainData[j,0:classColumnNum-1])\n",
        "\n",
        "  predicted = np.zeros(testDataSize)\n",
        "  sample = np.zeros((2,trainDataSize))\n",
        "  sample[1,:] = trainData[:,-1]\n",
        "  for p in range(testDataSize):\n",
        "    sample[0,:] = EuclideanDis[p,:]\n",
        "    s_sample = sample[:, np.argsort(sample[0, :])]\n",
        "    if K==1:\n",
        "      predicted[p] = s_sample[1,p]\n",
        "    else:\n",
        "      predicted[p] = mode(s_sample[1,:K])\n",
        "  \n",
        "  return confusion_matrix(testData[:,-1].astype(float), predicted)"
      ],
      "execution_count": null,
      "outputs": []
    },
    {
      "cell_type": "code",
      "metadata": {
        "id": "VL6_8ylIacLP",
        "colab_type": "code",
        "colab": {}
      },
      "source": [
        "def minimumMeanDistance(trainData, testData):\n",
        "  classColumnNum = trainData.shape[1]\n",
        "  trainDataSize = len(trainData)\n",
        "  testDataSize = len(testData)\n",
        "  allClasses = list(set(trainData[:,-1]))\n",
        "  eachClassMeanEucDis = np.zeros(len(allClasses))\n",
        "  EuclideanDis = np.zeros((len(allClasses), testDataSize, trainDataSize))\n",
        "  predicted = np.zeros(testDataSize)\n",
        "  for i in range(testDataSize):\n",
        "    for j in range(trainDataSize):\n",
        "      for k in allClasses:\n",
        "        if trainData[j,-1] == k:\n",
        "          EuclideanDis[k,i,j] = np.linalg.norm(testData[i,0:classColumnNum-1]-trainData[j,0:classColumnNum-1])\n",
        "    for l in allClasses:\n",
        "      eachClassMeanEucDis[l] = EuclideanDis[l,i].sum()/np.count_nonzero(EuclideanDis[l,i])\n",
        "    predicted[i] = np.argmin(eachClassMeanEucDis)\n",
        "  \n",
        "  return confusion_matrix(testData[:,-1].astype(float), predicted)"
      ],
      "execution_count": null,
      "outputs": []
    },
    {
      "cell_type": "code",
      "metadata": {
        "id": "1NSTFTOik-VX",
        "colab_type": "code",
        "colab": {}
      },
      "source": [
        "def gaussianDestributionBayes(trainData, testData, risk=False):\n",
        "  allClasses = list(set(trainData[:,-1]))\n",
        "  separatedByClass = {}\n",
        "  for i in allClasses:\n",
        "    separatedByClass[i] = trainData[trainData[:,-1] == i, :-1]\n",
        "\n",
        "  allMeanSTD = {}\n",
        "  for classLabel, instances in separatedByClass.items():\n",
        "    mean_std = [(np.mean(attribute), np.std(attribute)) for attribute in zip(*instances)]\n",
        "    allMeanSTD[classLabel] = mean_std\n",
        "\n",
        "  if risk:\n",
        "    Lambda = np.zeros(len(allClasses))\n",
        "    Lambda[0] = 0.98\n",
        "    Lambda[1] = 1.08\n",
        "\n",
        "  predicted = np.zeros(len(testData))\n",
        "  for i in range(len(testData)):\n",
        "    probabilities = {}\n",
        "    for classLabel, classAllMeanSTD in allMeanSTD.items():\n",
        "      # probabilities[classLabel] = 1\n",
        "      probabilities[classLabel] = len(separatedByClass[classLabel])/len(trainData)\n",
        "      for j in range(len(classAllMeanSTD)):\n",
        "        mean, stdev = classAllMeanSTD[j]\n",
        "        exponent = math.exp(-(math.pow(testData[i,j]-mean,2)/(2*math.pow(stdev,2))))\n",
        "        if risk:\n",
        "          probabilities[classLabel] *= Lambda[classLabel] * (1/(math.sqrt(2*math.pi)*stdev))*exponent\n",
        "        else:\n",
        "          probabilities[classLabel] *= (1/(math.sqrt(2*math.pi)*stdev))*exponent\n",
        "    bestLabel, bestProb = None, -1\n",
        "    for classLabel, probability in probabilities.items():\n",
        "      if bestLabel is None or probability > bestProb:\n",
        "        bestProb = probability\n",
        "        bestLabel = classLabel\n",
        "    predicted[i] = bestLabel\n",
        "    \n",
        "  return confusion_matrix(testData[:,-1].astype(float), predicted)"
      ],
      "execution_count": null,
      "outputs": []
    },
    {
      "cell_type": "code",
      "metadata": {
        "id": "s9I5skpWsTjj",
        "colab_type": "code",
        "colab": {}
      },
      "source": [
        "def supportVectorMachine(trainData, testData):\n",
        "  W = np.zeros(np.size(trainData,1)-1)\n",
        "  predicted = []\n",
        "  for i,v in enumerate(trainData[:,-1]):\n",
        "    if v==0:\n",
        "      trainData[i,-1] = 1\n",
        "    else:\n",
        "      trainData[i,-1] = -1\n",
        "\n",
        "  for i, val in enumerate(trainData[:,:-1]):\n",
        "    val1 = np.dot(trainData[i,:-1], W)\n",
        "    if (trainData[i,-1]*val1 < 1):\n",
        "      W = W + ((trainData[i,-1]*trainData[i,:-1]) - (2*W))\n",
        "    else:\n",
        "      W = W + (-2*W)\n",
        "\n",
        "  for i, val in enumerate(testData[:,:-1]):\n",
        "    predicted.append(np.dot(testData[i,:-1], W))\n",
        "\n",
        "  for i,v in enumerate(predicted):\n",
        "    if np.sign(v) == 1:\n",
        "      predicted[i] = 0\n",
        "    else:\n",
        "      predicted[i] = 1\n",
        "\n",
        "  return confusion_matrix(testData[:,-1].astype(float), predicted)"
      ],
      "execution_count": null,
      "outputs": []
    },
    {
      "cell_type": "code",
      "metadata": {
        "id": "6a9-2nkRbx0F",
        "colab_type": "code",
        "colab": {}
      },
      "source": [
        "#Reading Data and Preprocessing\n",
        "data_dir = '/content/gdrive/My Drive/Colab Notebooks/Dataset/'\n",
        "df=pd.read_csv(data_dir + 'Cancer.csv', sep=',',header=None)\n",
        "data = np.asarray(df)\n",
        "data = np.delete(data, 0, 0)\n",
        "data = np.delete(data, 0, 1)\n",
        "data = np.delete(data, (data.shape[1]-1), 1)\n",
        "data[:,[-1,0]] = data[:,[0,-1]]\n",
        "data[:,:-1] = data[:,:-1].astype(np.float)\n",
        "data[:,:-1] = normalize(data[:,:-1])"
      ],
      "execution_count": null,
      "outputs": []
    },
    {
      "cell_type": "code",
      "metadata": {
        "id": "bw0ttKTmgkRy",
        "colab_type": "code",
        "colab": {}
      },
      "source": [
        "#Principle Compnents Analysis\n",
        "pca = PCA(n_components=20)\n",
        "class_column = data.shape[1]\n",
        "n_data = pca.fit_transform(data[:,0:class_column-2])\n",
        "labels = data[:, -1:]\n",
        "data_DR = np.append(n_data, labels, axis=1)\n",
        "le = LabelEncoder()\n",
        "le.fit(data_DR[:,-1])\n",
        "data_DR[:,-1] = le.transform(data_DR[:,-1])\n",
        "data_DR[:,-1] = data_DR[:,-1]"
      ],
      "execution_count": null,
      "outputs": []
    },
    {
      "cell_type": "code",
      "metadata": {
        "id": "sRWHvhBFoso_",
        "colab_type": "code",
        "colab": {
          "base_uri": "https://localhost:8080/",
          "height": 521
        },
        "outputId": "f4e38b1e-b5e3-433e-d460-0101cfa7c664"
      },
      "source": [
        "#K-Fold Cross Validation\n",
        "numOfMethods = 5\n",
        "folds = 5\n",
        "kf = KFold(n_splits=folds)\n",
        "CM = np.zeros((numOfMethods,2,2))\n",
        "TPR = np.zeros(numOfMethods)\n",
        "FPR = np.zeros(numOfMethods)\n",
        "\n",
        "for train, test in kf.split(data_DR):\n",
        "  trainData = []\n",
        "  testData = []\n",
        "  for i in train:\n",
        "    trainData.append(data_DR[i])\n",
        "  for j in test:\n",
        "    testData.append(data_DR[j]) \n",
        "  trainData = np.asarray(trainData)\n",
        "  testData = np.asarray(testData)\n",
        "\n",
        "  nameOfMethods = {0: [kNearestNeighbor(trainData, testData, K=1), 'KNN'],\n",
        "                   1: [minimumMeanDistance(trainData, testData), 'Min Mean Dis'],\n",
        "                   2: [gaussianDestributionBayes(trainData, testData), 'Gaussian Bayes'],\n",
        "                   3: [gaussianDestributionBayes(trainData, testData, risk=True), 'Gaussian Bayes (Conditional Risk)'],\n",
        "                   4: [supportVectorMachine(trainData, testData), 'SVM']}\n",
        "\n",
        "  #Classification\n",
        "  for z in range(0,numOfMethods):\n",
        "    CM[z] += nameOfMethods[z][0]\n",
        "\n",
        "for z in range(0,numOfMethods):\n",
        "  print(z)\n",
        "  CM[z] = np.round(CM[z]/folds)\n",
        "  print('Confusion Matrix of ', nameOfMethods[z][1], ' Method')\n",
        "  print(CM[z])\n",
        "  print(nameOfMethods[z][1], 'Accuracy: ', (CM[z][0][0]+CM[z][1][1])/(sum(CM[z][0])+sum(CM[z][1])), '%')\n",
        "  print('')\n",
        "  TPR[z] = CM[z][0][0]/sum(CM[z][0])\n",
        "  FPR[z] = CM[z][1][0]/sum(CM[z][1])"
      ],
      "execution_count": null,
      "outputs": [
        {
          "output_type": "stream",
          "text": [
            "0\n",
            "Confusion Matrix of  KNN  Method\n",
            "[[65.  6.]\n",
            " [13. 29.]]\n",
            "KNN Accuracy:  0.831858407079646 %\n",
            "\n",
            "1\n",
            "Confusion Matrix of  Min Mean Dis  Method\n",
            "[[70.  1.]\n",
            " [ 9. 33.]]\n",
            "Min Mean Dis Accuracy:  0.911504424778761 %\n",
            "\n",
            "2\n",
            "Confusion Matrix of  Gaussian Bayes  Method\n",
            "[[61. 11.]\n",
            " [ 5. 37.]]\n",
            "Gaussian Bayes Accuracy:  0.8596491228070176 %\n",
            "\n",
            "3\n",
            "Confusion Matrix of  Gaussian Bayes (Conditional Risk)  Method\n",
            "[[42. 30.]\n",
            " [ 3. 39.]]\n",
            "Gaussian Bayes (Conditional Risk) Accuracy:  0.7105263157894737 %\n",
            "\n",
            "4\n",
            "Confusion Matrix of  SVM  Method\n",
            "[[49. 22.]\n",
            " [ 8. 34.]]\n",
            "SVM Accuracy:  0.7345132743362832 %\n",
            "\n"
          ],
          "name": "stdout"
        }
      ]
    },
    {
      "cell_type": "code",
      "metadata": {
        "id": "_emZnmUl7K1G",
        "colab_type": "code",
        "colab": {
          "base_uri": "https://localhost:8080/",
          "height": 350
        },
        "outputId": "fb2d1814-4e2d-4050-dc74-3f5855e35c45"
      },
      "source": [
        "#ROC Plot\n",
        "plt.figure(figsize=[10, 5])\n",
        "for z in range(0,numOfMethods):\n",
        "  plt.plot(FPR[z]+0.001, TPR[z]+0.001, 'o' , markersize=5, label=(nameOfMethods[z][1] +  \" Classifier\"))\n",
        "plt.plot([0, 1], [0, 1], color='navy', linestyle='--', label = \"Random Classifier\")\n",
        "plt.xlim([0.0, 1.0])\n",
        "plt.ylim([0.0, 1.0])\n",
        "plt.xlabel('False Positive Rate')\n",
        "plt.ylabel('True Positive Rate')\n",
        "plt.title('Receiver Operating Characteristic Plot')\n",
        "plt.legend(loc=\"lower right\")\n",
        "plt.show()"
      ],
      "execution_count": null,
      "outputs": [
        {
          "output_type": "display_data",
          "data": {
            "image/png": "[encoded data removed]",
            "text/plain": [
              "<Figure size 720x360 with 1 Axes>"
            ]
          },
          "metadata": {
            "tags": [],
            "needs_background": "light"
          }
        }
      ]
    }
  ]
}
