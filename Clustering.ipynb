{
  "nbformat": 4,
  "nbformat_minor": 0,
  "metadata": {
    "colab": {
      "name": "Clustering.ipynb",
      "provenance": [],
      "collapsed_sections": []
    },
    "kernelspec": {
      "name": "python3",
      "display_name": "Python 3"
    }
  },
  "cells": [
    {
      "cell_type": "code",
      "metadata": {
        "id": "LPdfdQ3zodTX",
        "colab_type": "code",
        "colab": {}
      },
      "source": [
        "import numpy as np\n",
        "from sklearn.preprocessing import normalize\n",
        "import matplotlib.pyplot as plt\n",
        "from sklearn.metrics.pairwise import euclidean_distances\n",
        "import sys"
      ],
      "execution_count": 2,
      "outputs": []
    },
    {
      "cell_type": "code",
      "metadata": {
        "id": "Dow-2sixm48z",
        "colab_type": "code",
        "colab": {}
      },
      "source": [
        "def kMeans(data, k=2):\n",
        "  st = True\n",
        "  iter = 0\n",
        "  centroids = np.zeros((k, np.size(data,1)))\n",
        "  numOfSamples = len(data)\n",
        "  newData = np.zeros((numOfSamples, np.size(data,1)+1))\n",
        "  randomIndex = np.random.randint(numOfSamples, size=k)\n",
        "  centroids = data[randomIndex,:]\n",
        "  newData[:,:-1] = data\n",
        "\n",
        "  while st:\n",
        "    iter += 1\n",
        "    for i in range(numOfSamples):\n",
        "      EuclideanDis = np.zeros(k)\n",
        "      for j in range(len(centroids)):\n",
        "        EuclideanDis[j] = np.linalg.norm(newData[i,:-1]-centroids[j,:])\n",
        "      cluster = np.argmin(EuclideanDis) + 1\n",
        "      newData[i,-1] = cluster\n",
        "      centroids[cluster-1] = np.mean(newData[newData[:,-1] == cluster, :-1], axis=0)\n",
        "    \n",
        "    if(iter == 50):\n",
        "      st = False\n",
        "\n",
        "  return newData"
      ],
      "execution_count": 3,
      "outputs": []
    },
    {
      "cell_type": "code",
      "metadata": {
        "id": "H2vUkdp178FS",
        "colab_type": "code",
        "colab": {}
      },
      "source": [
        "def hierarchicalClustering(data, linkage, numOfClusters):\n",
        "    eucDistances = euclidean_distances(data, data)\n",
        "    np.fill_diagonal(eucDistances,sys.maxsize)\n",
        "    clusters = findClusters(eucDistances, linkage) \n",
        "    clusterIndice = eucDistances.shape[0] - numOfClusters\n",
        "    dataClusters = clusters[clusterIndice]\n",
        "    \n",
        "    return dataClusters"
      ],
      "execution_count": 4,
      "outputs": []
    },
    {
      "cell_type": "code",
      "metadata": {
        "id": "r-BHiqTd7_E7",
        "colab_type": "code",
        "colab": {}
      },
      "source": [
        "def findClusters(input, linkage):\n",
        "    clusters = {}\n",
        "    rowIndex = -1\n",
        "    colIndex = -1\n",
        "    indices = list(range(input.shape[0]))\n",
        "        \n",
        "    clusters[0] = indices.copy()\n",
        "\n",
        "    for k in range(1, input.shape[0]):      \n",
        "        result = np.where(input == np.amin(input))\n",
        "        listOfCordinates = list(zip(result[0], result[1]))\n",
        "        cords = []\n",
        "        for cord in listOfCordinates:\n",
        "          if cord[0] < cord[1]:\n",
        "            cords.append(cord)\n",
        "        candidate = cords[np.random.choice(len(cords))]\n",
        "        rowIndex = candidate[1]\n",
        "        colIndex = candidate[0]\n",
        "\n",
        "        if(linkage == \"single\"):\n",
        "            temp = np.minimum(input[colIndex,:], input[rowIndex,:])\n",
        "            input[colIndex,0:colIndex] = temp[0:colIndex]\n",
        "            input[colIndex,colIndex+1:] = temp[colIndex+1:]\n",
        "            input[0:colIndex,colIndex] = temp[0:colIndex]\n",
        "            input[colIndex+1:,colIndex] = temp[colIndex+1:]\n",
        "        elif(linkage == \"complete\"):\n",
        "            temp = np.maximum(input[colIndex,:], input[rowIndex,:])\n",
        "            input[colIndex,0:colIndex] = temp[0:colIndex]\n",
        "            input[colIndex,colIndex+1:] = temp[colIndex+1:]\n",
        "            input[0:colIndex,colIndex] = temp[0:colIndex]\n",
        "            input[colIndex+1:,colIndex] = temp[colIndex+1:]\n",
        "        elif(linkage == \"average\"):\n",
        "            temp = (np.array(input[colIndex,:]) + np.array(input[rowIndex,:])) / 2.0\n",
        "            input[colIndex,0:colIndex] = temp[0:colIndex]\n",
        "            input[colIndex,colIndex+1:] = temp[colIndex+1:]\n",
        "            input[0:colIndex,colIndex] = temp[0:colIndex]\n",
        "            input[colIndex+1:,colIndex] = temp[colIndex+1:]\n",
        "                   \n",
        "        input[rowIndex,:] = sys.maxsize\n",
        "        input[:,rowIndex] = sys.maxsize\n",
        "            \n",
        "        minimum = min(rowIndex,colIndex)\n",
        "        maximum = max(rowIndex,colIndex)\n",
        "        for n in range(len(indices)):\n",
        "            \n",
        "            if(indices[n]==maximum):\n",
        "                indices[n] = minimum\n",
        "        \n",
        "        clusters[k] = indices.copy()\n",
        "\n",
        "    return clusters"
      ],
      "execution_count": 5,
      "outputs": []
    },
    {
      "cell_type": "code",
      "metadata": {
        "id": "aMtymNRJjgPv",
        "colab_type": "code",
        "colab": {}
      },
      "source": [
        "data_dir = '/content/gdrive/My Drive/Colab Notebooks/Dataset/'\n",
        "data = np.genfromtxt(data_dir + 'iris.txt', dtype='str')\n",
        "data = np.delete(data, np.size(data,1)-1, 1)\n",
        "data = data.astype(float)"
      ],
      "execution_count": 6,
      "outputs": []
    },
    {
      "cell_type": "code",
      "metadata": {
        "id": "Ox_1X-IKZsN4",
        "colab_type": "code",
        "colab": {}
      },
      "source": [
        "K = 3\n",
        "sLink = hierarchicalClustering(data,\"single\",K)\n",
        "cLink = hierarchicalClustering(data,\"complete\",K)\n",
        "aLink = hierarchicalClustering(data,\"average\",K)"
      ],
      "execution_count": 7,
      "outputs": []
    },
    {
      "cell_type": "code",
      "metadata": {
        "id": "kyUZODYCvJNc",
        "colab_type": "code",
        "colab": {
          "base_uri": "https://localhost:8080/",
          "height": 1000
        },
        "outputId": "2e5b83a8-e0a0-4856-ceb2-e41312a00867"
      },
      "source": [
        "hierarchicalMethods = {0: [sLink, 'Sigle-Link'],\n",
        "                       1: [cLink, 'Complete-Link'],\n",
        "                       2: [aLink, 'Average-Link']}\n",
        "\n",
        "for h in range(0,len(hierarchicalMethods)):\n",
        "  newData = np.zeros((len(data), np.size(data,1)+1))\n",
        "  newData[:,:-1] = data\n",
        "  cl = hierarchicalMethods[h][0]\n",
        "  newData[:,-1] = cl\n",
        "  uniqueClusters = np.unique(cl)\n",
        "  separatedByClus = {}\n",
        "  for o in uniqueClusters:\n",
        "    separatedByClus[o] = newData[newData[:,-1] == o, :-1]\n",
        "    temp = np.asarray(separatedByClus[o])\n",
        "    plt.scatter(temp[:,0],temp[:,1])\n",
        "    plt.title(hierarchicalMethods[h][1])\n",
        "  plt.show()\n",
        "\n",
        "cl = kMeans(data, k=K)\n",
        "separatedByClus = {}\n",
        "for i in range(1,K+1):\n",
        "  separatedByClus[i] = cl[cl[:,-1] == i, :-1]\n",
        "  temp = np.asarray(separatedByClus[i])\n",
        "  plt.scatter(temp[:,0],temp[:,1])\n",
        "  plt.title('K-Means')\n",
        "plt.show()"
      ],
      "execution_count": 8,
      "outputs": [
        {
          "output_type": "display_data",
          "data": {
            "image/png": "[encoded data removed]",
            "text/plain": [
              "<Figure size 432x288 with 1 Axes>"
            ]
          },
          "metadata": {
            "tags": [],
            "needs_background": "light"
          }
        },
        {
          "output_type": "display_data",
          "data": {
            "image/png": "[encoded data removed]",
            "text/plain": [
              "<Figure size 432x288 with 1 Axes>"
            ]
          },
          "metadata": {
            "tags": [],
            "needs_background": "light"
          }
        },
        {
          "output_type": "display_data",
          "data": {
            "image/png": "[encoded data removed]",
            "text/plain": [
              "<Figure size 432x288 with 1 Axes>"
            ]
          },
          "metadata": {
            "tags": [],
            "needs_background": "light"
          }
        },
        {
          "output_type": "display_data",
          "data": {
            "image/png": "[encoded data removed]",
            "text/plain": [
              "<Figure size 432x288 with 1 Axes>"
            ]
          },
          "metadata": {
            "tags": [],
            "needs_background": "light"
          }
        }
      ]
    }
  ]
}